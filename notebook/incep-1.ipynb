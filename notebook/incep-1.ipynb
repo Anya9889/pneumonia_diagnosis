{
 "cells": [
  {
   "cell_type": "code",
   "execution_count": null,
   "metadata": {},
   "outputs": [],
   "source": [
    "import numpy as np\n",
    "import pandas as pd\n",
    "from tensorflow.keras.models import Sequential\n",
    "from tensorflow.keras.layers import Conv2D, MaxPool2D, Dense, Flatten, Dropout\n",
    "from tensorflow.keras import layers\n",
    "import matplotlib.pyplot as plt\n",
    "import tensorflow as tf\n",
    "import seaborn as sns\n",
    "from sklearn.metrics import confusion_matrix, classification_report\n",
    "\n",
    "from pneumonia.ml_logic.preprocessor import train_generator, val_generator, test_generator\n",
    "from pneumonia.ml_logic.baseline import compile, fitting\n",
    "from tensorflow.keras.layers import Rescaling\n",
    "from tensorflow.keras import Input\n",
    "\n",
    "from tensorflow.keras.applications.inception_v3 import InceptionV3\n",
    "from tensorflow.keras import regularizers\n",
    "from tensorflow.keras.applications.inception_v3 import preprocess_input"
   ]
  },
  {
   "cell_type": "code",
   "execution_count": null,
   "metadata": {},
   "outputs": [],
   "source": [
    "def inception_v3_pneunomia():\n",
    "    # INITIALIZE INPUT LAYER\n",
    "    input_layer = layers.Input(shape=(256,256,3))\n",
    "    # PREPROCESSING\n",
    "    preprocessed = preprocess_input(input_layer)\n",
    "    # APPLYING THE CONVOLUTIONS OPERATIONS\n",
    "    # OF THE PRETRAINED INCEPTIONNET ON THE THE PREPROCESSED IMG\n",
    "    incep = InceptionV3(include_top = False,\n",
    "        weights = 'imagenet')\n",
    "    incep.trainable = False\n",
    "    activated_img = incep(preprocessed)\n",
    "    # FLATTEN THE ACTIVATED IMG\n",
    "    flattened = layers.Flatten(activated_img)\n",
    "    # HIDDEN DENSE LAYERS\n",
    "    transfo_1 = layers.Dense(32,activation=\"gelu\")(flattened)\n",
    "    transfo_1_dropped = layers.Dropout(0.4)(transfo_1)\n",
    "    prediction = layers.Dense(1,activation=\"sigmoid\")(transfo_1_dropped)\n",
    "\n",
    "    return prediction\n"
   ]
  },
  {
   "cell_type": "code",
   "execution_count": null,
   "metadata": {},
   "outputs": [],
   "source": []
  }
 ],
 "metadata": {
  "kernelspec": {
   "display_name": "pneumonia_diagnosis",
   "language": "python",
   "name": "python3"
  },
  "language_info": {
   "name": "python",
   "version": "3.10.6"
  },
  "orig_nbformat": 4
 },
 "nbformat": 4,
 "nbformat_minor": 2
}
