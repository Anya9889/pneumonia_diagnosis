{
 "cells": [
  {
   "cell_type": "code",
   "execution_count": 1,
   "metadata": {},
   "outputs": [],
   "source": [
    "import numpy as np\n",
    "from keras.layers import Conv2D, MaxPool2D, Dense, Flatten, Dropout\n",
    "from tensorflow.keras import Sequential, layers\n",
    "from tensorflow.keras.layers import Rescaling\n",
    "from tensorflow.keras import Input\n",
    "import matplotlib.pyplot as plt\n",
    "import tensorflow as tf\n",
    "import seaborn as sns\n",
    "import efficientnet.keras as efn\n",
    "\n",
    "from pneumonia.ml_logic.preprocessor import train_generator, val_generator, test_generator\n",
    "from pneumonia.ml_logic.baseline import compile, fitting"
   ]
  },
  {
   "cell_type": "code",
   "execution_count": 10,
   "metadata": {},
   "outputs": [],
   "source": [
    "def eff_net():\n",
    "    eff_net = efn.EfficientNetB0(input_shape = (256, 256, 3), include_top = False, weights = 'imagenet')    \n",
    "    eff_net.trainable = False\n",
    "    input_dim = (256,256,3)\n",
    "    scale = (1./255.)\n",
    "    model = Sequential([\n",
    "        eff_net,\n",
    "        Input(shape=input_dim),\n",
    "        Rescaling(scale),\n",
    "        Flatten(),\n",
    "        Dense(32, activation=\"relu\"),\n",
    "       # Dropout(0.2),\n",
    "        Dense(1, activation='sigmoid')\n",
    "    ])\n",
    "    \n",
    "    return model"
   ]
  },
  {
   "cell_type": "code",
   "execution_count": 11,
   "metadata": {},
   "outputs": [],
   "source": [
    "eff_model = eff_net()"
   ]
  },
  {
   "cell_type": "code",
   "execution_count": 12,
   "metadata": {},
   "outputs": [
    {
     "name": "stdout",
     "output_type": "stream",
     "text": [
      "Model: \"sequential_2\"\n",
      "_________________________________________________________________\n",
      " Layer (type)                Output Shape              Param #   \n",
      "=================================================================\n",
      " efficientnet-b0 (Functional  (None, 8, 8, 1280)       4049564   \n",
      " )                                                               \n",
      "                                                                 \n",
      " input_6 (InputLayer)        multiple                  0         \n",
      "                                                                 \n",
      " rescaling_2 (Rescaling)     (None, 8, 8, 1280)        0         \n",
      "                                                                 \n",
      " flatten_2 (Flatten)         (None, 81920)             0         \n",
      "                                                                 \n",
      " dense_4 (Dense)             (None, 32)                2621472   \n",
      "                                                                 \n",
      " dense_5 (Dense)             (None, 1)                 33        \n",
      "                                                                 \n",
      "=================================================================\n",
      "Total params: 6,671,069\n",
      "Trainable params: 2,621,505\n",
      "Non-trainable params: 4,049,564\n",
      "_________________________________________________________________\n",
      "None\n"
     ]
    },
    {
     "data": {
      "text/plain": [
       "<keras.engine.sequential.Sequential at 0x3abe58580>"
      ]
     },
     "execution_count": 12,
     "metadata": {},
     "output_type": "execute_result"
    }
   ],
   "source": [
    "compile(eff_model)"
   ]
  },
  {
   "cell_type": "code",
   "execution_count": 13,
   "metadata": {},
   "outputs": [
    {
     "name": "stdout",
     "output_type": "stream",
     "text": [
      "Found 4716 files belonging to 2 classes.\n",
      "Found 604 files belonging to 2 classes.\n",
      "Epoch 1/20\n"
     ]
    },
    {
     "name": "stderr",
     "output_type": "stream",
     "text": [
      "2023-03-24 17:46:25.904587: I tensorflow/core/grappler/optimizers/custom_graph_optimizer_registry.cc:114] Plugin optimizer for device_type GPU is enabled.\n"
     ]
    },
    {
     "name": "stdout",
     "output_type": "stream",
     "text": [
      "148/148 [==============================] - ETA: 0s - loss: 0.5077 - accuracy: 0.5587 - recall_2: 0.4606"
     ]
    },
    {
     "name": "stderr",
     "output_type": "stream",
     "text": [
      "2023-03-24 17:46:47.923425: I tensorflow/core/grappler/optimizers/custom_graph_optimizer_registry.cc:114] Plugin optimizer for device_type GPU is enabled.\n"
     ]
    },
    {
     "name": "stdout",
     "output_type": "stream",
     "text": [
      "148/148 [==============================] - 30s 176ms/step - loss: 0.5077 - accuracy: 0.5587 - recall_2: 0.4606 - val_loss: 0.8204 - val_accuracy: 0.7252 - val_recall_2: 0.8045\n",
      "Epoch 2/20\n",
      "148/148 [==============================] - 20s 135ms/step - loss: 0.2260 - accuracy: 0.8176 - recall_2: 0.8772 - val_loss: 0.7005 - val_accuracy: 0.7185 - val_recall_2: 0.7933\n",
      "Epoch 3/20\n",
      "148/148 [==============================] - 20s 135ms/step - loss: 0.2129 - accuracy: 0.8259 - recall_2: 0.8825 - val_loss: 0.7555 - val_accuracy: 0.6838 - val_recall_2: 0.7303\n",
      "Epoch 4/20\n",
      "148/148 [==============================] - 21s 139ms/step - loss: 0.2029 - accuracy: 0.8357 - recall_2: 0.9031 - val_loss: 0.6720 - val_accuracy: 0.7434 - val_recall_2: 0.8270\n",
      "Epoch 5/20\n",
      "148/148 [==============================] - 20s 136ms/step - loss: 0.1953 - accuracy: 0.8425 - recall_2: 0.9110 - val_loss: 0.6553 - val_accuracy: 0.7401 - val_recall_2: 0.8247\n",
      "Epoch 6/20\n",
      "148/148 [==============================] - 20s 135ms/step - loss: 0.1892 - accuracy: 0.8543 - recall_2: 0.9223 - val_loss: 0.5958 - val_accuracy: 0.7732 - val_recall_2: 0.8764\n",
      "Epoch 7/20\n",
      "148/148 [==============================] - 21s 137ms/step - loss: 0.1807 - accuracy: 0.8658 - recall_2: 0.9351 - val_loss: 0.5823 - val_accuracy: 0.7815 - val_recall_2: 0.8944\n",
      "Epoch 8/20\n",
      "148/148 [==============================] - 20s 134ms/step - loss: 0.1770 - accuracy: 0.8681 - recall_2: 0.9436 - val_loss: 0.6349 - val_accuracy: 0.7599 - val_recall_2: 0.8584\n",
      "Epoch 9/20\n",
      "148/148 [==============================] - 20s 134ms/step - loss: 0.1664 - accuracy: 0.8832 - recall_2: 0.9502 - val_loss: 0.6068 - val_accuracy: 0.7699 - val_recall_2: 0.8809\n",
      "Epoch 10/20\n",
      "148/148 [==============================] - 20s 135ms/step - loss: 0.1667 - accuracy: 0.8810 - recall_2: 0.9523 - val_loss: 0.6282 - val_accuracy: 0.7566 - val_recall_2: 0.8562\n",
      "Epoch 11/20\n",
      "148/148 [==============================] - 20s 134ms/step - loss: 0.1646 - accuracy: 0.8853 - recall_2: 0.9575 - val_loss: 0.6795 - val_accuracy: 0.7599 - val_recall_2: 0.8517\n",
      "Epoch 12/20\n",
      "148/148 [==============================] - 20s 135ms/step - loss: 0.1590 - accuracy: 0.8914 - recall_2: 0.9625 - val_loss: 0.6204 - val_accuracy: 0.7748 - val_recall_2: 0.8719\n",
      "--- 254.68313193321228 ---\n"
     ]
    }
   ],
   "source": [
    "eff_model_history = fitting(eff_model)"
   ]
  },
  {
   "cell_type": "code",
   "execution_count": null,
   "metadata": {},
   "outputs": [],
   "source": []
  },
  {
   "cell_type": "code",
   "execution_count": null,
   "metadata": {},
   "outputs": [],
   "source": []
  }
 ],
 "metadata": {
  "kernelspec": {
   "display_name": "pneumonia_diagnosis",
   "language": "python",
   "name": "python3"
  },
  "language_info": {
   "codemirror_mode": {
    "name": "ipython",
    "version": 3
   },
   "file_extension": ".py",
   "mimetype": "text/x-python",
   "name": "python",
   "nbconvert_exporter": "python",
   "pygments_lexer": "ipython3",
   "version": "3.10.6"
  },
  "orig_nbformat": 4
 },
 "nbformat": 4,
 "nbformat_minor": 2
}
